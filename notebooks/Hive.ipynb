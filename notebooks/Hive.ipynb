{
 "cells": [
  {
   "attachments": {},
   "cell_type": "markdown",
   "metadata": {},
   "source": [
    "# Project - Hive"
   ]
  },
  {
   "attachments": {},
   "cell_type": "markdown",
   "metadata": {},
   "source": [
    "Analysis of large datasets is being performed at\n",
    "an unprecedented frequency. Several technologies have been\n",
    "developed to do so, offering a variety of solutions and drawbacks\n",
    "related to the processing of different data types and\n",
    "data processing requirements. \n",
    "\n",
    "This notebook implements Hive in order to solve a series of questions by using a data set regarding air polution in the USA.\n",
    "In the report, we compared the performance\n",
    "of five different technologies – MapReduce, Spark RDD,\n",
    "SparkDF, Spark SQL and Hive."
   ]
  },
  {
   "attachments": {},
   "cell_type": "markdown",
   "metadata": {},
   "source": [
    "Epa table"
   ]
  },
  {
   "cell_type": "code",
   "execution_count": null,
   "metadata": {},
   "outputs": [],
   "source": [
    "%%file epa.hql\n",
    "\n",
    "drop table summary;\n",
    "\n",
    "CREATE TABLE summary(\n",
    "state_code             int,\n",
    "county_code            int,\n",
    "site_num               int,\n",
    "parameter_code         int,\n",
    "poc                    int,\n",
    "latitude               float,\n",
    "longitude              float,\n",
    "datum                  CHAR(28),\n",
    "parameter_name         CHAR(28),\n",
    "sample_duration        CHAR(28),\n",
    "pollutant_standard     float,\n",
    "date_local             CHAR(28),\n",
    "units_of_measure       CHAR(28),\n",
    "event_type             CHAR(28),\n",
    "observation_count      int,\n",
    "observation_percent    float,\n",
    "arithmetic_mean        float,\n",
    "first_max_value        float,\n",
    "first_max_hour         int,\n",
    "aqi                    float,\n",
    "method_code            int,\n",
    "method_name            CHAR(28),\n",
    "local_site_name        CHAR(28),\n",
    "address                CHAR(48),\n",
    "state_name             CHAR(28),\n",
    "county_name            CHAR(28),\n",
    "city_name              CHAR(28),\n",
    "cbsa_name              CHAR(28),\n",
    "date_of_last_change    CHAR(28) )\n",
    "\n",
    " ROW FORMAT DELIMITED FIELDS TERMINATED BY ',';\n",
    "\n",
    "load data local inpath 'epa_hap_daily_summary-small.csv' into table summary;"
   ]
  },
  {
   "attachments": {},
   "cell_type": "markdown",
   "metadata": {},
   "source": [
    "States table"
   ]
  },
  {
   "cell_type": "code",
   "execution_count": null,
   "metadata": {},
   "outputs": [],
   "source": [
    "%%file states.hql\n",
    "\n",
    "drop table states;\n",
    "\n",
    "CREATE TABLE states(\n",
    "\tstate                char(2),\n",
    "\tname                 char(28),\n",
    "\tminlat               float,\n",
    "\tmaxlat               float,\n",
    "\tminlon               float,\n",
    "\tmaxlon               float )\n",
    "\n",
    " ROW FORMAT DELIMITED FIELDS TERMINATED BY ',';\n",
    "\n",
    "load data local inpath 'usa_states.csv' into table states;\n"
   ]
  },
  {
   "cell_type": "code",
   "execution_count": 10,
   "metadata": {
    "collapsed": false
   },
   "outputs": [
    {
     "name": "stdout",
     "output_type": "stream",
     "text": [
      "Overwriting q1.hql\n"
     ]
    }
   ],
   "source": [
    "%%file q1.hql\n",
    "\n",
    "SELECT state_code, collect_set(state_name) AS StateName, count(DISTINCT latitude+longitude) AS NumberOfMonitors \n",
    "FROM summary \n",
    "GROUP BY state_code \n",
    "ORDER BY StateName ASC"
   ]
  },
  {
   "cell_type": "code",
   "execution_count": 11,
   "metadata": {
    "collapsed": false
   },
   "outputs": [
    {
     "name": "stdout",
     "output_type": "stream",
     "text": [
      "Overwriting q2.hql\n"
     ]
    }
   ],
   "source": [
    "%%file q2.hql\n",
    "\n",
    "SELECT county_name, sum(arithmetic_mean)/count(arithmetic_mean) AS Value \n",
    "FROM summary\n",
    "GROUP BY county_name \n",
    "ORDER BY Value DESC"
   ]
  },
  {
   "cell_type": "code",
   "execution_count": 12,
   "metadata": {
    "collapsed": false
   },
   "outputs": [
    {
     "name": "stdout",
     "output_type": "stream",
     "text": [
      "Overwriting q3.hql\n"
     ]
    }
   ],
   "source": [
    "%%file q3.hql\n",
    "\n",
    "SELECT state_code, collect_set(state_name) AS state_name, sum(arithmetic_mean)/count(arithmetic_mean) AS value, substr(date_local, 1, 4) AS year \n",
    "FROM summary \n",
    "GROUP BY state_code, date_local \n",
    "ORDER BY value DESC \n",
    "LIMIT 100"
   ]
  },
  {
   "cell_type": "code",
   "execution_count": 14,
   "metadata": {
    "collapsed": false
   },
   "outputs": [
    {
     "name": "stdout",
     "output_type": "stream",
     "text": [
      "Overwriting q4.hql\n"
     ]
    }
   ],
   "source": [
    "%%file q4.hql\n",
    "\n",
    "drop table aux;\n",
    "\n",
    "CREATE TABLE aux AS\n",
    "SELECT state_name, address, minlat, latitude, maxlat, minlon, longitude, maxlon,\n",
    "ABS(latitude-(minLat+(maxLat-minLat)/2)) AS dlat, ABS(longitude-(minLon+(maxLon-minLon)/2)) AS dlon \n",
    "FROM summary l, states s \n",
    "WHERE l.state_name=s.name;\n",
    "\n",
    "SELECT state_name, SQRT(POW(AVG(t.dlat)*111, 2)+POW(AVG(t.dlon)*111, 2)) AS hkm FROM aux t GROUP BY state_name;"
   ]
  },
  {
   "cell_type": "code",
   "execution_count": 25,
   "metadata": {
    "collapsed": false
   },
   "outputs": [
    {
     "name": "stdout",
     "output_type": "stream",
     "text": [
      "Overwriting q5.hql\n"
     ]
    }
   ],
   "source": [
    "%%file q5.hql\n",
    "\n",
    "drop table statesaux;\n",
    "drop table ne;\n",
    "drop table nw;\n",
    "drop table se;\n",
    "drop table sw;\n",
    "\n",
    "\n",
    "\n",
    "CREATE TABLE statesaux AS\n",
    "SELECT DISTINCT state_code, state_name, minLat, minLat+ABS((maxLat-minLat)/2) AS centerLat, maxLat, minLon, minLon+((maxLon-minLon)/2) AS centerLon, maxLon AS total \n",
    "FROM summary, states \n",
    "WHERE summary.state_name=states.name  \n",
    "ORDER BY state_code;\n",
    "\n",
    "CREATE TABLE ne AS\n",
    "SELECT l.state_name, COUNT(DISTINCT latitude+longitude) AS value FROM summary l, statesaux s WHERE l.state_name=s.state_name AND l.latitude>s.centerLat AND l.longitude>s.centerLon GROUP BY l.state_name;\n",
    "\n",
    "CREATE TABLE nw AS\n",
    "SELECT l.state_name, COUNT(DISTINCT latitude+longitude) AS value FROM summary l, statesaux s WHERE l.state_name=s.state_name AND l.latitude>s.centerLat AND l.longitude<s.centerLon GROUP BY l.state_name;\n",
    "\n",
    "CREATE TABLE se AS\n",
    "SELECT l.state_name, COUNT(DISTINCT latitude+longitude) AS value FROM summary l, statesaux s WHERE  l.state_name=s.state_name AND l.latitude<s.centerLat AND l.longitude>s.centerLon GROUP BY l.state_name;\n",
    "\n",
    "CREATE TABLE sw AS\n",
    "SELECT l.state_name, COUNT(DISTINCT latitude+longitude) AS value FROM summary l, statesaux s WHERE  l.state_name=s.state_name AND l.latitude<s.centerLat AND l.longitude<s.centerLon GROUP BY l.state_name;\n",
    "\n",
    "SELECT  l.state_code, l.state_name, nw.value AS NW, ne.value AS NE, sw.value AS SW, se.value AS SE \n",
    "FROM statesaux s, summary l, states u, ne, nw, se, sw \n",
    "WHERE l.state_name=ne.state_name AND l.state_name=nw.state_name AND l.state_name=se.state_name AND l.state_name=sw.state_name AND s.state_code=l.state_code \n",
    "GROUP BY l.state_code, l.state_name, nw.value, ne.value, sw.value, se.value, s.total\n",
    "ORDER BY state_name ASC;\n",
    "\n"
   ]
  }
 ],
 "metadata": {
  "interpreter": {
   "hash": "97b38eea4165be9112a944b0d5579ed7c1fbf7fb62bf30de8c17a759001bc10e"
  },
  "kernelspec": {
   "display_name": "Python 2",
   "language": "python",
   "name": "python3"
  },
  "language_info": {
   "codemirror_mode": {
    "name": "ipython",
    "version": 2
   },
   "file_extension": ".py",
   "mimetype": "text/x-python",
   "name": "python",
   "nbconvert_exporter": "python",
   "pygments_lexer": "ipython2",
   "version": "3.8.12"
  }
 },
 "nbformat": 4,
 "nbformat_minor": 0
}
